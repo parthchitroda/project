{
 "cells": [
  {
   "cell_type": "code",
   "execution_count": 1,
   "id": "4f52710f",
   "metadata": {},
   "outputs": [],
   "source": [
    "import pandas as pd\n",
    "import numpy as np\n",
    "import matplotlib.pyplot as plt\n",
    "import seaborn as sns\n",
    "plt.show()"
   ]
  },
  {
   "cell_type": "code",
   "execution_count": 2,
   "id": "c2a520a1",
   "metadata": {},
   "outputs": [],
   "source": [
    "df = pd.read_csv('data1.csv')"
   ]
  },
  {
   "cell_type": "code",
   "execution_count": 3,
   "id": "782b382a",
   "metadata": {},
   "outputs": [
    {
     "data": {
      "text/html": [
       "<div>\n",
       "<style scoped>\n",
       "    .dataframe tbody tr th:only-of-type {\n",
       "        vertical-align: middle;\n",
       "    }\n",
       "\n",
       "    .dataframe tbody tr th {\n",
       "        vertical-align: top;\n",
       "    }\n",
       "\n",
       "    .dataframe thead th {\n",
       "        text-align: right;\n",
       "    }\n",
       "</style>\n",
       "<table border=\"1\" class=\"dataframe\">\n",
       "  <thead>\n",
       "    <tr style=\"text-align: right;\">\n",
       "      <th></th>\n",
       "      <th>Transaction date</th>\n",
       "      <th>House Age</th>\n",
       "      <th>Distance from nearest Metro station (km)</th>\n",
       "      <th>Number of convenience stores</th>\n",
       "      <th>latitude</th>\n",
       "      <th>longitude</th>\n",
       "      <th>Number of bedrooms</th>\n",
       "      <th>House size (sqft)</th>\n",
       "      <th>House price of unit area</th>\n",
       "    </tr>\n",
       "  </thead>\n",
       "  <tbody>\n",
       "    <tr>\n",
       "      <th>0</th>\n",
       "      <td>2012.917</td>\n",
       "      <td>32.0</td>\n",
       "      <td>84.87882</td>\n",
       "      <td>10</td>\n",
       "      <td>24.98298</td>\n",
       "      <td>121.54024</td>\n",
       "      <td>1</td>\n",
       "      <td>575</td>\n",
       "      <td>37.9</td>\n",
       "    </tr>\n",
       "    <tr>\n",
       "      <th>1</th>\n",
       "      <td>2012.917</td>\n",
       "      <td>19.5</td>\n",
       "      <td>306.59470</td>\n",
       "      <td>9</td>\n",
       "      <td>24.98034</td>\n",
       "      <td>121.53951</td>\n",
       "      <td>2</td>\n",
       "      <td>1240</td>\n",
       "      <td>42.2</td>\n",
       "    </tr>\n",
       "    <tr>\n",
       "      <th>2</th>\n",
       "      <td>2013.583</td>\n",
       "      <td>13.3</td>\n",
       "      <td>561.98450</td>\n",
       "      <td>5</td>\n",
       "      <td>24.98746</td>\n",
       "      <td>121.54391</td>\n",
       "      <td>3</td>\n",
       "      <td>1060</td>\n",
       "      <td>47.3</td>\n",
       "    </tr>\n",
       "    <tr>\n",
       "      <th>3</th>\n",
       "      <td>2013.500</td>\n",
       "      <td>13.3</td>\n",
       "      <td>561.98450</td>\n",
       "      <td>5</td>\n",
       "      <td>24.98746</td>\n",
       "      <td>121.54391</td>\n",
       "      <td>2</td>\n",
       "      <td>875</td>\n",
       "      <td>54.8</td>\n",
       "    </tr>\n",
       "    <tr>\n",
       "      <th>4</th>\n",
       "      <td>2012.833</td>\n",
       "      <td>5.0</td>\n",
       "      <td>390.56840</td>\n",
       "      <td>5</td>\n",
       "      <td>24.97937</td>\n",
       "      <td>121.54245</td>\n",
       "      <td>1</td>\n",
       "      <td>491</td>\n",
       "      <td>43.1</td>\n",
       "    </tr>\n",
       "  </tbody>\n",
       "</table>\n",
       "</div>"
      ],
      "text/plain": [
       "   Transaction date  House Age  Distance from nearest Metro station (km)  \\\n",
       "0          2012.917       32.0                                  84.87882   \n",
       "1          2012.917       19.5                                 306.59470   \n",
       "2          2013.583       13.3                                 561.98450   \n",
       "3          2013.500       13.3                                 561.98450   \n",
       "4          2012.833        5.0                                 390.56840   \n",
       "\n",
       "   Number of convenience stores  latitude  longitude  Number of bedrooms  \\\n",
       "0                            10  24.98298  121.54024                   1   \n",
       "1                             9  24.98034  121.53951                   2   \n",
       "2                             5  24.98746  121.54391                   3   \n",
       "3                             5  24.98746  121.54391                   2   \n",
       "4                             5  24.97937  121.54245                   1   \n",
       "\n",
       "   House size (sqft)  House price of unit area  \n",
       "0                575                      37.9  \n",
       "1               1240                      42.2  \n",
       "2               1060                      47.3  \n",
       "3                875                      54.8  \n",
       "4                491                      43.1  "
      ]
     },
     "execution_count": 3,
     "metadata": {},
     "output_type": "execute_result"
    }
   ],
   "source": [
    "df.head()"
   ]
  },
  {
   "cell_type": "code",
   "execution_count": 4,
   "id": "87d93505",
   "metadata": {},
   "outputs": [
    {
     "data": {
      "text/plain": [
       "(414, 9)"
      ]
     },
     "execution_count": 4,
     "metadata": {},
     "output_type": "execute_result"
    }
   ],
   "source": [
    "df.shape"
   ]
  },
  {
   "cell_type": "code",
   "execution_count": 5,
   "id": "750f8a58",
   "metadata": {},
   "outputs": [
    {
     "data": {
      "text/plain": [
       "Transaction date                            0\n",
       "House Age                                   0\n",
       "Distance from nearest Metro station (km)    0\n",
       "Number of convenience stores                0\n",
       "latitude                                    0\n",
       "longitude                                   0\n",
       "Number of bedrooms                          0\n",
       "House size (sqft)                           0\n",
       "House price of unit area                    0\n",
       "dtype: int64"
      ]
     },
     "execution_count": 5,
     "metadata": {},
     "output_type": "execute_result"
    }
   ],
   "source": [
    "df.isnull().sum()"
   ]
  },
  {
   "cell_type": "code",
   "execution_count": 6,
   "id": "c937e28a",
   "metadata": {},
   "outputs": [
    {
     "name": "stdout",
     "output_type": "stream",
     "text": [
      "<class 'pandas.core.frame.DataFrame'>\n",
      "RangeIndex: 414 entries, 0 to 413\n",
      "Data columns (total 9 columns):\n",
      " #   Column                                    Non-Null Count  Dtype  \n",
      "---  ------                                    --------------  -----  \n",
      " 0   Transaction date                          414 non-null    float64\n",
      " 1   House Age                                 414 non-null    float64\n",
      " 2   Distance from nearest Metro station (km)  414 non-null    float64\n",
      " 3   Number of convenience stores              414 non-null    int64  \n",
      " 4   latitude                                  414 non-null    float64\n",
      " 5   longitude                                 414 non-null    float64\n",
      " 6   Number of bedrooms                        414 non-null    int64  \n",
      " 7   House size (sqft)                         414 non-null    int64  \n",
      " 8   House price of unit area                  414 non-null    float64\n",
      "dtypes: float64(6), int64(3)\n",
      "memory usage: 29.2 KB\n"
     ]
    }
   ],
   "source": [
    "df.info()"
   ]
  },
  {
   "cell_type": "code",
   "execution_count": 7,
   "id": "a543d16a",
   "metadata": {},
   "outputs": [
    {
     "data": {
      "text/plain": [
       "(array([67., 46., 24., 46., 31., 67., 37., 31., 30., 35.]),\n",
       " array([ 0.,  1.,  2.,  3.,  4.,  5.,  6.,  7.,  8.,  9., 10.]),\n",
       " <BarContainer object of 10 artists>)"
      ]
     },
     "execution_count": 7,
     "metadata": {},
     "output_type": "execute_result"
    },
    {
     "data": {
      "image/png": "[encoded data removed]",
      "text/plain": [
       "<Figure size 432x288 with 1 Axes>"
      ]
     },
     "metadata": {
      "needs_background": "light"
     },
     "output_type": "display_data"
    }
   ],
   "source": [
    "plt.hist(df['Number of convenience stores'])"
   ]
  },
  {
   "cell_type": "code",
   "execution_count": 8,
   "id": "e1451994",
   "metadata": {},
   "outputs": [
    {
     "name": "stderr",
     "output_type": "stream",
     "text": [
      "C:\\Users\\Dell\\anaconda3\\New folder (2)\\lib\\site-packages\\seaborn\\_decorators.py:36: FutureWarning: Pass the following variable as a keyword arg: x. From version 0.12, the only valid positional argument will be `data`, and passing other arguments without an explicit keyword will result in an error or misinterpretation.\n",
      "  warnings.warn(\n"
     ]
    },
    {
     "data": {
      "text/plain": [
       "<AxesSubplot:xlabel='House Age'>"
      ]
     },
     "execution_count": 8,
     "metadata": {},
     "output_type": "execute_result"
    },
    {
     "data": {
      "image/png": "[encoded data removed]",
      "text/plain": [
       "<Figure size 432x288 with 1 Axes>"
      ]
     },
     "metadata": {
      "needs_background": "light"
     },
     "output_type": "display_data"
    }
   ],
   "source": [
    "sns.boxplot(df['House Age'])"
   ]
  },
  {
   "cell_type": "code",
   "execution_count": 9,
   "id": "27e4e2be",
   "metadata": {},
   "outputs": [
    {
     "name": "stderr",
     "output_type": "stream",
     "text": [
      "C:\\Users\\Dell\\anaconda3\\New folder (2)\\lib\\site-packages\\seaborn\\_decorators.py:36: FutureWarning: Pass the following variable as a keyword arg: x. From version 0.12, the only valid positional argument will be `data`, and passing other arguments without an explicit keyword will result in an error or misinterpretation.\n",
      "  warnings.warn(\n"
     ]
    },
    {
     "data": {
      "text/plain": [
       "<AxesSubplot:xlabel='House price of unit area'>"
      ]
     },
     "execution_count": 9,
     "metadata": {},
     "output_type": "execute_result"
    },
    {
     "data": {
      "image/png": "[encoded data removed]",
      "text/plain": [
       "<Figure size 432x288 with 1 Axes>"
      ]
     },
     "metadata": {
      "needs_background": "light"
     },
     "output_type": "display_data"
    }
   ],
   "source": [
    "sns.boxplot(df['House price of unit area'])"
   ]
  },
  {
   "cell_type": "code",
   "execution_count": 10,
   "id": "2cd40b88",
   "metadata": {},
   "outputs": [
    {
     "data": {
      "text/html": [
       "<div>\n",
       "<style scoped>\n",
       "    .dataframe tbody tr th:only-of-type {\n",
       "        vertical-align: middle;\n",
       "    }\n",
       "\n",
       "    .dataframe tbody tr th {\n",
       "        vertical-align: top;\n",
       "    }\n",
       "\n",
       "    .dataframe thead th {\n",
       "        text-align: right;\n",
       "    }\n",
       "</style>\n",
       "<table border=\"1\" class=\"dataframe\">\n",
       "  <thead>\n",
       "    <tr style=\"text-align: right;\">\n",
       "      <th></th>\n",
       "      <th>Transaction date</th>\n",
       "      <th>House Age</th>\n",
       "      <th>Distance from nearest Metro station (km)</th>\n",
       "      <th>Number of convenience stores</th>\n",
       "      <th>latitude</th>\n",
       "      <th>longitude</th>\n",
       "      <th>Number of bedrooms</th>\n",
       "      <th>House size (sqft)</th>\n",
       "      <th>House price of unit area</th>\n",
       "    </tr>\n",
       "  </thead>\n",
       "  <tbody>\n",
       "    <tr>\n",
       "      <th>count</th>\n",
       "      <td>414.000000</td>\n",
       "      <td>414.000000</td>\n",
       "      <td>414.000000</td>\n",
       "      <td>414.000000</td>\n",
       "      <td>414.000000</td>\n",
       "      <td>414.000000</td>\n",
       "      <td>414.000000</td>\n",
       "      <td>414.000000</td>\n",
       "      <td>414.000000</td>\n",
       "    </tr>\n",
       "    <tr>\n",
       "      <th>mean</th>\n",
       "      <td>2013.148971</td>\n",
       "      <td>17.712560</td>\n",
       "      <td>1083.885689</td>\n",
       "      <td>4.094203</td>\n",
       "      <td>24.969030</td>\n",
       "      <td>121.533361</td>\n",
       "      <td>1.987923</td>\n",
       "      <td>931.475845</td>\n",
       "      <td>37.980193</td>\n",
       "    </tr>\n",
       "    <tr>\n",
       "      <th>std</th>\n",
       "      <td>0.281967</td>\n",
       "      <td>11.392485</td>\n",
       "      <td>1262.109595</td>\n",
       "      <td>2.945562</td>\n",
       "      <td>0.012410</td>\n",
       "      <td>0.015347</td>\n",
       "      <td>0.818875</td>\n",
       "      <td>348.910269</td>\n",
       "      <td>13.606488</td>\n",
       "    </tr>\n",
       "    <tr>\n",
       "      <th>min</th>\n",
       "      <td>2012.667000</td>\n",
       "      <td>0.000000</td>\n",
       "      <td>23.382840</td>\n",
       "      <td>0.000000</td>\n",
       "      <td>24.932070</td>\n",
       "      <td>121.473530</td>\n",
       "      <td>1.000000</td>\n",
       "      <td>402.000000</td>\n",
       "      <td>7.600000</td>\n",
       "    </tr>\n",
       "    <tr>\n",
       "      <th>25%</th>\n",
       "      <td>2012.917000</td>\n",
       "      <td>9.025000</td>\n",
       "      <td>289.324800</td>\n",
       "      <td>1.000000</td>\n",
       "      <td>24.963000</td>\n",
       "      <td>121.528085</td>\n",
       "      <td>1.000000</td>\n",
       "      <td>548.000000</td>\n",
       "      <td>27.700000</td>\n",
       "    </tr>\n",
       "    <tr>\n",
       "      <th>50%</th>\n",
       "      <td>2013.167000</td>\n",
       "      <td>16.100000</td>\n",
       "      <td>492.231300</td>\n",
       "      <td>4.000000</td>\n",
       "      <td>24.971100</td>\n",
       "      <td>121.538630</td>\n",
       "      <td>2.000000</td>\n",
       "      <td>975.000000</td>\n",
       "      <td>38.450000</td>\n",
       "    </tr>\n",
       "    <tr>\n",
       "      <th>75%</th>\n",
       "      <td>2013.417000</td>\n",
       "      <td>28.150000</td>\n",
       "      <td>1454.279000</td>\n",
       "      <td>6.000000</td>\n",
       "      <td>24.977455</td>\n",
       "      <td>121.543305</td>\n",
       "      <td>3.000000</td>\n",
       "      <td>1234.750000</td>\n",
       "      <td>46.600000</td>\n",
       "    </tr>\n",
       "    <tr>\n",
       "      <th>max</th>\n",
       "      <td>2013.583000</td>\n",
       "      <td>43.800000</td>\n",
       "      <td>6488.021000</td>\n",
       "      <td>10.000000</td>\n",
       "      <td>25.014590</td>\n",
       "      <td>121.566270</td>\n",
       "      <td>3.000000</td>\n",
       "      <td>1500.000000</td>\n",
       "      <td>117.500000</td>\n",
       "    </tr>\n",
       "  </tbody>\n",
       "</table>\n",
       "</div>"
      ],
      "text/plain": [
       "       Transaction date   House Age  Distance from nearest Metro station (km)  \\\n",
       "count        414.000000  414.000000                                414.000000   \n",
       "mean        2013.148971   17.712560                               1083.885689   \n",
       "std            0.281967   11.392485                               1262.109595   \n",
       "min         2012.667000    0.000000                                 23.382840   \n",
       "25%         2012.917000    9.025000                                289.324800   \n",
       "50%         2013.167000   16.100000                                492.231300   \n",
       "75%         2013.417000   28.150000                               1454.279000   \n",
       "max         2013.583000   43.800000                               6488.021000   \n",
       "\n",
       "       Number of convenience stores    latitude   longitude  \\\n",
       "count                    414.000000  414.000000  414.000000   \n",
       "mean                       4.094203   24.969030  121.533361   \n",
       "std                        2.945562    0.012410    0.015347   \n",
       "min                        0.000000   24.932070  121.473530   \n",
       "25%                        1.000000   24.963000  121.528085   \n",
       "50%                        4.000000   24.971100  121.538630   \n",
       "75%                        6.000000   24.977455  121.543305   \n",
       "max                       10.000000   25.014590  121.566270   \n",
       "\n",
       "       Number of bedrooms  House size (sqft)  House price of unit area  \n",
       "count          414.000000         414.000000                414.000000  \n",
       "mean             1.987923         931.475845                 37.980193  \n",
       "std              0.818875         348.910269                 13.606488  \n",
       "min              1.000000         402.000000                  7.600000  \n",
       "25%              1.000000         548.000000                 27.700000  \n",
       "50%              2.000000         975.000000                 38.450000  \n",
       "75%              3.000000        1234.750000                 46.600000  \n",
       "max              3.000000        1500.000000                117.500000  "
      ]
     },
     "execution_count": 10,
     "metadata": {},
     "output_type": "execute_result"
    }
   ],
   "source": [
    "df.describe()"
   ]
  },
  {
   "cell_type": "code",
   "execution_count": 11,
   "id": "a55a8ec7",
   "metadata": {},
   "outputs": [],
   "source": [
    "from sklearn.model_selection import train_test_split"
   ]
  },
  {
   "cell_type": "code",
   "execution_count": 12,
   "id": "d78aaf92",
   "metadata": {},
   "outputs": [],
   "source": [
    "df_train, df_test = train_test_split(df, train_size = 0.7, random_state = 100) # test_size=0.3"
   ]
  },
  {
   "cell_type": "code",
   "execution_count": 13,
   "id": "2ab0a7b7",
   "metadata": {},
   "outputs": [
    {
     "data": {
      "text/plain": [
       "((289, 9), (125, 9))"
      ]
     },
     "execution_count": 13,
     "metadata": {},
     "output_type": "execute_result"
    }
   ],
   "source": [
    "df_train.shape, df_test.shape"
   ]
  },
  {
   "cell_type": "code",
   "execution_count": 14,
   "id": "6dd2c6bc",
   "metadata": {},
   "outputs": [],
   "source": [
    "y_train = df_train['House price of unit area']\n",
    "X_train = df_train.drop('House price of unit area',axis=1)"
   ]
  },
  {
   "cell_type": "code",
   "execution_count": 15,
   "id": "5c190e85",
   "metadata": {},
   "outputs": [
    {
     "data": {
      "text/html": [
       "<div>\n",
       "<style scoped>\n",
       "    .dataframe tbody tr th:only-of-type {\n",
       "        vertical-align: middle;\n",
       "    }\n",
       "\n",
       "    .dataframe tbody tr th {\n",
       "        vertical-align: top;\n",
       "    }\n",
       "\n",
       "    .dataframe thead th {\n",
       "        text-align: right;\n",
       "    }\n",
       "</style>\n",
       "<table border=\"1\" class=\"dataframe\">\n",
       "  <thead>\n",
       "    <tr style=\"text-align: right;\">\n",
       "      <th></th>\n",
       "      <th>Transaction date</th>\n",
       "      <th>House Age</th>\n",
       "      <th>Distance from nearest Metro station (km)</th>\n",
       "      <th>Number of convenience stores</th>\n",
       "      <th>latitude</th>\n",
       "      <th>longitude</th>\n",
       "      <th>Number of bedrooms</th>\n",
       "      <th>House size (sqft)</th>\n",
       "    </tr>\n",
       "  </thead>\n",
       "  <tbody>\n",
       "    <tr>\n",
       "      <th>287</th>\n",
       "      <td>2013.000</td>\n",
       "      <td>19.2</td>\n",
       "      <td>461.1016</td>\n",
       "      <td>5</td>\n",
       "      <td>24.95425</td>\n",
       "      <td>121.53990</td>\n",
       "      <td>2</td>\n",
       "      <td>1469</td>\n",
       "    </tr>\n",
       "    <tr>\n",
       "      <th>31</th>\n",
       "      <td>2012.750</td>\n",
       "      <td>29.6</td>\n",
       "      <td>769.4034</td>\n",
       "      <td>7</td>\n",
       "      <td>24.98281</td>\n",
       "      <td>121.53408</td>\n",
       "      <td>2</td>\n",
       "      <td>1478</td>\n",
       "    </tr>\n",
       "    <tr>\n",
       "      <th>209</th>\n",
       "      <td>2012.833</td>\n",
       "      <td>34.8</td>\n",
       "      <td>175.6294</td>\n",
       "      <td>8</td>\n",
       "      <td>24.97347</td>\n",
       "      <td>121.54271</td>\n",
       "      <td>3</td>\n",
       "      <td>1349</td>\n",
       "    </tr>\n",
       "    <tr>\n",
       "      <th>239</th>\n",
       "      <td>2013.500</td>\n",
       "      <td>18.1</td>\n",
       "      <td>837.7233</td>\n",
       "      <td>0</td>\n",
       "      <td>24.96334</td>\n",
       "      <td>121.54767</td>\n",
       "      <td>3</td>\n",
       "      <td>1074</td>\n",
       "    </tr>\n",
       "    <tr>\n",
       "      <th>47</th>\n",
       "      <td>2013.583</td>\n",
       "      <td>35.9</td>\n",
       "      <td>640.7391</td>\n",
       "      <td>3</td>\n",
       "      <td>24.97563</td>\n",
       "      <td>121.53715</td>\n",
       "      <td>3</td>\n",
       "      <td>867</td>\n",
       "    </tr>\n",
       "  </tbody>\n",
       "</table>\n",
       "</div>"
      ],
      "text/plain": [
       "     Transaction date  House Age  Distance from nearest Metro station (km)  \\\n",
       "287          2013.000       19.2                                  461.1016   \n",
       "31           2012.750       29.6                                  769.4034   \n",
       "209          2012.833       34.8                                  175.6294   \n",
       "239          2013.500       18.1                                  837.7233   \n",
       "47           2013.583       35.9                                  640.7391   \n",
       "\n",
       "     Number of convenience stores  latitude  longitude  Number of bedrooms  \\\n",
       "287                             5  24.95425  121.53990                   2   \n",
       "31                              7  24.98281  121.53408                   2   \n",
       "209                             8  24.97347  121.54271                   3   \n",
       "239                             0  24.96334  121.54767                   3   \n",
       "47                              3  24.97563  121.53715                   3   \n",
       "\n",
       "     House size (sqft)  \n",
       "287               1469  \n",
       "31                1478  \n",
       "209               1349  \n",
       "239               1074  \n",
       "47                 867  "
      ]
     },
     "execution_count": 15,
     "metadata": {},
     "output_type": "execute_result"
    }
   ],
   "source": [
    "X_train.head(5)"
   ]
  },
  {
   "cell_type": "code",
   "execution_count": 16,
   "id": "c78f2d5a",
   "metadata": {},
   "outputs": [
    {
     "data": {
      "text/plain": [
       "287    32.9\n",
       "31     25.0\n",
       "209    40.9\n",
       "239    29.7\n",
       "47     61.5\n",
       "       ... \n",
       "343    46.6\n",
       "359    24.7\n",
       "323    42.5\n",
       "280    45.4\n",
       "8      18.8\n",
       "Name: House price of unit area, Length: 289, dtype: float64"
      ]
     },
     "execution_count": 16,
     "metadata": {},
     "output_type": "execute_result"
    }
   ],
   "source": [
    "y_train"
   ]
  },
  {
   "cell_type": "code",
   "execution_count": 17,
   "id": "936e6262",
   "metadata": {},
   "outputs": [],
   "source": [
    "y_test = df_test['House price of unit area']\n",
    "X_test = df_test.drop('House price of unit area',axis=1)"
   ]
  },
  {
   "cell_type": "code",
   "execution_count": 18,
   "id": "7de0abec",
   "metadata": {},
   "outputs": [
    {
     "data": {
      "text/html": [
       "<div>\n",
       "<style scoped>\n",
       "    .dataframe tbody tr th:only-of-type {\n",
       "        vertical-align: middle;\n",
       "    }\n",
       "\n",
       "    .dataframe tbody tr th {\n",
       "        vertical-align: top;\n",
       "    }\n",
       "\n",
       "    .dataframe thead th {\n",
       "        text-align: right;\n",
       "    }\n",
       "</style>\n",
       "<table border=\"1\" class=\"dataframe\">\n",
       "  <thead>\n",
       "    <tr style=\"text-align: right;\">\n",
       "      <th></th>\n",
       "      <th>Transaction date</th>\n",
       "      <th>House Age</th>\n",
       "      <th>Distance from nearest Metro station (km)</th>\n",
       "      <th>Number of convenience stores</th>\n",
       "      <th>latitude</th>\n",
       "      <th>longitude</th>\n",
       "      <th>Number of bedrooms</th>\n",
       "      <th>House size (sqft)</th>\n",
       "    </tr>\n",
       "  </thead>\n",
       "  <tbody>\n",
       "    <tr>\n",
       "      <th>121</th>\n",
       "      <td>2013.500</td>\n",
       "      <td>13.6</td>\n",
       "      <td>492.23130</td>\n",
       "      <td>5</td>\n",
       "      <td>24.96515</td>\n",
       "      <td>121.53737</td>\n",
       "      <td>1</td>\n",
       "      <td>443</td>\n",
       "    </tr>\n",
       "    <tr>\n",
       "      <th>353</th>\n",
       "      <td>2013.500</td>\n",
       "      <td>4.1</td>\n",
       "      <td>2147.37600</td>\n",
       "      <td>3</td>\n",
       "      <td>24.96299</td>\n",
       "      <td>121.51284</td>\n",
       "      <td>2</td>\n",
       "      <td>901</td>\n",
       "    </tr>\n",
       "    <tr>\n",
       "      <th>96</th>\n",
       "      <td>2013.417</td>\n",
       "      <td>6.4</td>\n",
       "      <td>90.45606</td>\n",
       "      <td>9</td>\n",
       "      <td>24.97433</td>\n",
       "      <td>121.54310</td>\n",
       "      <td>3</td>\n",
       "      <td>1158</td>\n",
       "    </tr>\n",
       "    <tr>\n",
       "      <th>43</th>\n",
       "      <td>2012.750</td>\n",
       "      <td>34.4</td>\n",
       "      <td>512.78710</td>\n",
       "      <td>6</td>\n",
       "      <td>24.98748</td>\n",
       "      <td>121.54301</td>\n",
       "      <td>1</td>\n",
       "      <td>447</td>\n",
       "    </tr>\n",
       "    <tr>\n",
       "      <th>125</th>\n",
       "      <td>2013.167</td>\n",
       "      <td>1.1</td>\n",
       "      <td>193.58450</td>\n",
       "      <td>6</td>\n",
       "      <td>24.96571</td>\n",
       "      <td>121.54089</td>\n",
       "      <td>2</td>\n",
       "      <td>952</td>\n",
       "    </tr>\n",
       "  </tbody>\n",
       "</table>\n",
       "</div>"
      ],
      "text/plain": [
       "     Transaction date  House Age  Distance from nearest Metro station (km)  \\\n",
       "121          2013.500       13.6                                 492.23130   \n",
       "353          2013.500        4.1                                2147.37600   \n",
       "96           2013.417        6.4                                  90.45606   \n",
       "43           2012.750       34.4                                 512.78710   \n",
       "125          2013.167        1.1                                 193.58450   \n",
       "\n",
       "     Number of convenience stores  latitude  longitude  Number of bedrooms  \\\n",
       "121                             5  24.96515  121.53737                   1   \n",
       "353                             3  24.96299  121.51284                   2   \n",
       "96                              9  24.97433  121.54310                   3   \n",
       "43                              6  24.98748  121.54301                   1   \n",
       "125                             6  24.96571  121.54089                   2   \n",
       "\n",
       "     House size (sqft)  \n",
       "121                443  \n",
       "353                901  \n",
       "96                1158  \n",
       "43                 447  \n",
       "125                952  "
      ]
     },
     "execution_count": 18,
     "metadata": {},
     "output_type": "execute_result"
    }
   ],
   "source": [
    "X_test.head(5)"
   ]
  },
  {
   "cell_type": "code",
   "execution_count": 19,
   "id": "d1774f8a",
   "metadata": {},
   "outputs": [],
   "source": [
    "from statsmodels.api import OLS"
   ]
  },
  {
   "cell_type": "code",
   "execution_count": 20,
   "id": "b87e029b",
   "metadata": {},
   "outputs": [],
   "source": [
    "model1 = OLS(y_train, X_train)"
   ]
  },
  {
   "cell_type": "code",
   "execution_count": 21,
   "id": "84659185",
   "metadata": {},
   "outputs": [],
   "source": [
    "model1 = model1.fit() "
   ]
  },
  {
   "cell_type": "code",
   "execution_count": 22,
   "id": "c17dd4f9",
   "metadata": {},
   "outputs": [
    {
     "data": {
      "text/html": [
       "<table class=\"simpletable\">\n",
       "<caption>OLS Regression Results</caption>\n",
       "<tr>\n",
       "  <th>Dep. Variable:</th>    <td>House price of unit area</td> <th>  R-squared (uncentered):</th>      <td>   0.944</td> \n",
       "</tr>\n",
       "<tr>\n",
       "  <th>Model:</th>                       <td>OLS</td>           <th>  Adj. R-squared (uncentered):</th> <td>   0.943</td> \n",
       "</tr>\n",
       "<tr>\n",
       "  <th>Method:</th>                 <td>Least Squares</td>      <th>  F-statistic:       </th>          <td>   594.2</td> \n",
       "</tr>\n",
       "<tr>\n",
       "  <th>Date:</th>                 <td>Sat, 03 Dec 2022</td>     <th>  Prob (F-statistic):</th>          <td>3.37e-171</td>\n",
       "</tr>\n",
       "<tr>\n",
       "  <th>Time:</th>                     <td>17:23:48</td>         <th>  Log-Likelihood:    </th>          <td> -1061.1</td> \n",
       "</tr>\n",
       "<tr>\n",
       "  <th>No. Observations:</th>          <td>   289</td>          <th>  AIC:               </th>          <td>   2138.</td> \n",
       "</tr>\n",
       "<tr>\n",
       "  <th>Df Residuals:</th>              <td>   281</td>          <th>  BIC:               </th>          <td>   2167.</td> \n",
       "</tr>\n",
       "<tr>\n",
       "  <th>Df Model:</th>                  <td>     8</td>          <th>                     </th>              <td> </td>    \n",
       "</tr>\n",
       "<tr>\n",
       "  <th>Covariance Type:</th>          <td>nonrobust</td>        <th>                     </th>              <td> </td>    \n",
       "</tr>\n",
       "</table>\n",
       "<table class=\"simpletable\">\n",
       "<tr>\n",
       "                      <td></td>                        <th>coef</th>     <th>std err</th>      <th>t</th>      <th>P>|t|</th>  <th>[0.025</th>    <th>0.975]</th>  \n",
       "</tr>\n",
       "<tr>\n",
       "  <th>Transaction date</th>                         <td>    5.5288</td> <td>    1.888</td> <td>    2.928</td> <td> 0.004</td> <td>    1.812</td> <td>    9.246</td>\n",
       "</tr>\n",
       "<tr>\n",
       "  <th>House Age</th>                                <td>   -0.2919</td> <td>    0.050</td> <td>   -5.869</td> <td> 0.000</td> <td>   -0.390</td> <td>   -0.194</td>\n",
       "</tr>\n",
       "<tr>\n",
       "  <th>Distance from nearest Metro station (km)</th> <td>   -0.0059</td> <td>    0.001</td> <td>   -8.588</td> <td> 0.000</td> <td>   -0.007</td> <td>   -0.005</td>\n",
       "</tr>\n",
       "<tr>\n",
       "  <th>Number of convenience stores</th>             <td>    1.0559</td> <td>    0.236</td> <td>    4.477</td> <td> 0.000</td> <td>    0.592</td> <td>    1.520</td>\n",
       "</tr>\n",
       "<tr>\n",
       "  <th>latitude</th>                                 <td>  176.6843</td> <td>   54.367</td> <td>    3.250</td> <td> 0.001</td> <td>   69.666</td> <td>  283.703</td>\n",
       "</tr>\n",
       "<tr>\n",
       "  <th>longitude</th>                                <td> -127.5014</td> <td>   30.801</td> <td>   -4.139</td> <td> 0.000</td> <td> -188.132</td> <td>  -66.871</td>\n",
       "</tr>\n",
       "<tr>\n",
       "  <th>Number of bedrooms</th>                       <td>   -0.3522</td> <td>    1.053</td> <td>   -0.335</td> <td> 0.738</td> <td>   -2.424</td> <td>    1.720</td>\n",
       "</tr>\n",
       "<tr>\n",
       "  <th>House size (sqft)</th>                        <td>    0.0001</td> <td>    0.003</td> <td>    0.047</td> <td> 0.963</td> <td>   -0.005</td> <td>    0.005</td>\n",
       "</tr>\n",
       "</table>\n",
       "<table class=\"simpletable\">\n",
       "<tr>\n",
       "  <th>Omnibus:</th>       <td>162.468</td> <th>  Durbin-Watson:     </th> <td>   1.921</td>\n",
       "</tr>\n",
       "<tr>\n",
       "  <th>Prob(Omnibus):</th> <td> 0.000</td>  <th>  Jarque-Bera (JB):  </th> <td>2151.242</td>\n",
       "</tr>\n",
       "<tr>\n",
       "  <th>Skew:</th>          <td> 1.970</td>  <th>  Prob(JB):          </th> <td>    0.00</td>\n",
       "</tr>\n",
       "<tr>\n",
       "  <th>Kurtosis:</th>      <td>15.772</td>  <th>  Cond. No.          </th> <td>2.49e+05</td>\n",
       "</tr>\n",
       "</table><br/><br/>Notes:<br/>[1] R² is computed without centering (uncentered) since the model does not contain a constant.<br/>[2] Standard Errors assume that the covariance matrix of the errors is correctly specified.<br/>[3] The condition number is large, 2.49e+05. This might indicate that there are<br/>strong multicollinearity or other numerical problems."
      ],
      "text/plain": [
       "<class 'statsmodels.iolib.summary.Summary'>\n",
       "\"\"\"\n",
       "                                    OLS Regression Results                                   \n",
       "=============================================================================================\n",
       "Dep. Variable:     House price of unit area   R-squared (uncentered):                   0.944\n",
       "Model:                                  OLS   Adj. R-squared (uncentered):              0.943\n",
       "Method:                       Least Squares   F-statistic:                              594.2\n",
       "Date:                      Sat, 03 Dec 2022   Prob (F-statistic):                   3.37e-171\n",
       "Time:                              17:23:48   Log-Likelihood:                         -1061.1\n",
       "No. Observations:                       289   AIC:                                      2138.\n",
       "Df Residuals:                           281   BIC:                                      2167.\n",
       "Df Model:                                 8                                                  \n",
       "Covariance Type:                  nonrobust                                                  \n",
       "============================================================================================================\n",
       "                                               coef    std err          t      P>|t|      [0.025      0.975]\n",
       "------------------------------------------------------------------------------------------------------------\n",
       "Transaction date                             5.5288      1.888      2.928      0.004       1.812       9.246\n",
       "House Age                                   -0.2919      0.050     -5.869      0.000      -0.390      -0.194\n",
       "Distance from nearest Metro station (km)    -0.0059      0.001     -8.588      0.000      -0.007      -0.005\n",
       "Number of convenience stores                 1.0559      0.236      4.477      0.000       0.592       1.520\n",
       "latitude                                   176.6843     54.367      3.250      0.001      69.666     283.703\n",
       "longitude                                 -127.5014     30.801     -4.139      0.000    -188.132     -66.871\n",
       "Number of bedrooms                          -0.3522      1.053     -0.335      0.738      -2.424       1.720\n",
       "House size (sqft)                            0.0001      0.003      0.047      0.963      -0.005       0.005\n",
       "==============================================================================\n",
       "Omnibus:                      162.468   Durbin-Watson:                   1.921\n",
       "Prob(Omnibus):                  0.000   Jarque-Bera (JB):             2151.242\n",
       "Skew:                           1.970   Prob(JB):                         0.00\n",
       "Kurtosis:                      15.772   Cond. No.                     2.49e+05\n",
       "==============================================================================\n",
       "\n",
       "Notes:\n",
       "[1] R² is computed without centering (uncentered) since the model does not contain a constant.\n",
       "[2] Standard Errors assume that the covariance matrix of the errors is correctly specified.\n",
       "[3] The condition number is large, 2.49e+05. This might indicate that there are\n",
       "strong multicollinearity or other numerical problems.\n",
       "\"\"\""
      ]
     },
     "execution_count": 22,
     "metadata": {},
     "output_type": "execute_result"
    }
   ],
   "source": [
    "model1.summary()"
   ]
  },
  {
   "cell_type": "code",
   "execution_count": 23,
   "id": "eb233bc9",
   "metadata": {},
   "outputs": [],
   "source": [
    "#Prediction and evaluation\n",
    "import sklearn.metrics as metrics\n",
    "y_test_pred= model1.predict(X_test)"
   ]
  },
  {
   "cell_type": "code",
   "execution_count": 24,
   "id": "32f8790e",
   "metadata": {},
   "outputs": [
    {
     "data": {
      "text/plain": [
       "121    45.045411\n",
       "353    38.315802\n",
       "96     53.571285\n",
       "43     38.987335\n",
       "125    49.042251\n",
       "204    26.840073\n",
       "235    43.815297\n",
       "358    49.050361\n",
       "379    50.993864\n",
       "169    28.820382\n",
       "dtype: float64"
      ]
     },
     "execution_count": 24,
     "metadata": {},
     "output_type": "execute_result"
    }
   ],
   "source": [
    "y_test_pred[:10]"
   ]
  },
  {
   "cell_type": "code",
   "execution_count": 25,
   "id": "5c4c044f",
   "metadata": {},
   "outputs": [
    {
     "name": "stdout",
     "output_type": "stream",
     "text": [
      "7.158834935987337\n"
     ]
    }
   ],
   "source": [
    "print(np.sqrt(metrics.mean_squared_error(y_test, y_test_pred)))\n"
   ]
  },
  {
   "cell_type": "code",
   "execution_count": 29,
   "id": "b7ccbb66",
   "metadata": {},
   "outputs": [
    {
     "data": {
      "text/plain": [
       "7.158834935987337"
      ]
     },
     "execution_count": 29,
     "metadata": {},
     "output_type": "execute_result"
    }
   ],
   "source": [
    "metrics.mean_squared_error(y_test,y_test_pred, squared=False)"
   ]
  },
  {
   "cell_type": "code",
   "execution_count": 27,
   "id": "081f035e",
   "metadata": {},
   "outputs": [],
   "source": [
    "from statsmodels.tools.eval_measures import rmse"
   ]
  },
  {
   "cell_type": "code",
   "execution_count": 28,
   "id": "795b53bf",
   "metadata": {},
   "outputs": [
    {
     "data": {
      "text/plain": [
       "7.158834935987337"
      ]
     },
     "execution_count": 28,
     "metadata": {},
     "output_type": "execute_result"
    }
   ],
   "source": [
    "rmse(y_test,y_test_pred)"
   ]
  },
  {
   "cell_type": "code",
   "execution_count": 30,
   "id": "cd3f2578",
   "metadata": {},
   "outputs": [
    {
     "name": "stdout",
     "output_type": "stream",
     "text": [
      "MPE: -6.516699830763319\n"
     ]
    }
   ],
   "source": [
    "#Calculating MPE\n",
    "def MPE(y_test_pred,y_test):\n",
    "    return ( ((y_test - y_test_pred) / y_test).mean()) * 100\n",
    "\n",
    "print ('MPE: ' + str(MPE(y_test_pred,y_test)) )"
   ]
  },
  {
   "cell_type": "code",
   "execution_count": 31,
   "id": "561c8c33",
   "metadata": {},
   "outputs": [
    {
     "name": "stdout",
     "output_type": "stream",
     "text": [
      "MAPE: 16.808258790896566\n"
     ]
    }
   ],
   "source": [
    "#Calculating MAPE\n",
    "def MAPE(y_test_pred,y_test):\n",
    "    return np.mean(np.abs((y_test - y_test_pred) / y_test)) * 100\n",
    "    \n",
    "print ('MAPE: ' + str(MAPE(y_test_pred,y_test)) )"
   ]
  },
  {
   "cell_type": "code",
   "execution_count": null,
   "id": "6536bde7",
   "metadata": {},
   "outputs": [],
   "source": []
  }
 ],
 "metadata": {
  "kernelspec": {
   "display_name": "Python 3 (ipykernel)",
   "language": "python",
   "name": "python3"
  },
  "language_info": {
   "codemirror_mode": {
    "name": "ipython",
    "version": 3
   },
   "file_extension": ".py",
   "mimetype": "text/x-python",
   "name": "python",
   "nbconvert_exporter": "python",
   "pygments_lexer": "ipython3",
   "version": "3.9.12"
  }
 },
 "nbformat": 4,
 "nbformat_minor": 5
}
